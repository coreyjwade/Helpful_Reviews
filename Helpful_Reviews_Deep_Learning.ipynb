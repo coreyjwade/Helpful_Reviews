{
 "cells": [
  {
   "cell_type": "code",
   "execution_count": 1,
   "metadata": {},
   "outputs": [
    {
     "name": "stderr",
     "output_type": "stream",
     "text": [
      "/anaconda3/lib/python3.6/site-packages/h5py/__init__.py:36: FutureWarning: Conversion of the second argument of issubdtype from `float` to `np.floating` is deprecated. In future, it will be treated as `np.float64 == np.dtype(float).type`.\n",
      "  from ._conv import register_converters as _register_converters\n",
      "Using TensorFlow backend.\n"
     ]
    }
   ],
   "source": [
    "# Import modules\n",
    "import numpy as np\n",
    "import pandas as pd\n",
    "import matplotlib.pyplot as plt\n",
    "%matplotlib inline\n",
    "import keras\n",
    "from keras.layers import Dense\n",
    "from keras.models import Sequential\n",
    "from keras.utils import to_categorical\n",
    "from keras.optimizers import SGD\n",
    "from keras.callbacks import EarlyStopping\n",
    "from sklearn.feature_extraction.text import CountVectorizer\n",
    "from sklearn.feature_extraction.text import TfidfVectorizer\n",
    "from sklearn.model_selection import train_test_split"
   ]
  },
  {
   "cell_type": "code",
   "execution_count": 2,
   "metadata": {},
   "outputs": [
    {
     "data": {
      "text/html": [
       "<div>\n",
       "<style scoped>\n",
       "    .dataframe tbody tr th:only-of-type {\n",
       "        vertical-align: middle;\n",
       "    }\n",
       "\n",
       "    .dataframe tbody tr th {\n",
       "        vertical-align: top;\n",
       "    }\n",
       "\n",
       "    .dataframe thead th {\n",
       "        text-align: right;\n",
       "    }\n",
       "</style>\n",
       "<table border=\"1\" class=\"dataframe\">\n",
       "  <thead>\n",
       "    <tr style=\"text-align: right;\">\n",
       "      <th></th>\n",
       "      <th>Unnamed: 0</th>\n",
       "      <th>index</th>\n",
       "      <th>asin</th>\n",
       "      <th>helpful</th>\n",
       "      <th>overall</th>\n",
       "      <th>reviewText</th>\n",
       "      <th>reviewTime</th>\n",
       "      <th>reviewerID</th>\n",
       "      <th>reviewerName</th>\n",
       "      <th>summary</th>\n",
       "      <th>...</th>\n",
       "      <th>Total_Votes</th>\n",
       "      <th>Helpful_Percentage</th>\n",
       "      <th>Review_Length</th>\n",
       "      <th>Sentence_Length</th>\n",
       "      <th>Word_Length</th>\n",
       "      <th>Helpful_Rating</th>\n",
       "      <th>Helpful_Votes_Scaled</th>\n",
       "      <th>Helpful_Percentage_Book_Score</th>\n",
       "      <th>Badge</th>\n",
       "      <th>Helpful?</th>\n",
       "    </tr>\n",
       "  </thead>\n",
       "  <tbody>\n",
       "    <tr>\n",
       "      <th>0</th>\n",
       "      <td>14</td>\n",
       "      <td>34</td>\n",
       "      <td>000100039X</td>\n",
       "      <td>[81, 92]</td>\n",
       "      <td>5.0</td>\n",
       "      <td>This is one of the first (literary) books I re...</td>\n",
       "      <td>06 24, 2000</td>\n",
       "      <td>A1NPNGWBVD9AK3</td>\n",
       "      <td>Bruce Kendall \"BEK\"</td>\n",
       "      <td>Simple Wisdom</td>\n",
       "      <td>...</td>\n",
       "      <td>92</td>\n",
       "      <td>0.880435</td>\n",
       "      <td>1542</td>\n",
       "      <td>15.000000</td>\n",
       "      <td>4.258865</td>\n",
       "      <td>0.921901</td>\n",
       "      <td>0.993132</td>\n",
       "      <td>0.587119</td>\n",
       "      <td>4</td>\n",
       "      <td>1</td>\n",
       "    </tr>\n",
       "    <tr>\n",
       "      <th>1</th>\n",
       "      <td>18</td>\n",
       "      <td>43</td>\n",
       "      <td>000100039X</td>\n",
       "      <td>[8, 10]</td>\n",
       "      <td>5.0</td>\n",
       "      <td>The Prophet is Kahlil Gibran's best known work...</td>\n",
       "      <td>10 27, 2009</td>\n",
       "      <td>A3IS4WGMFR4X65</td>\n",
       "      <td>Colin Lewis \"WisdomNote\"</td>\n",
       "      <td>The most loving book ever written</td>\n",
       "      <td>...</td>\n",
       "      <td>10</td>\n",
       "      <td>0.800000</td>\n",
       "      <td>2294</td>\n",
       "      <td>22.705882</td>\n",
       "      <td>4.883289</td>\n",
       "      <td>0.816553</td>\n",
       "      <td>0.851511</td>\n",
       "      <td>0.545942</td>\n",
       "      <td>4</td>\n",
       "      <td>1</td>\n",
       "    </tr>\n",
       "    <tr>\n",
       "      <th>2</th>\n",
       "      <td>19</td>\n",
       "      <td>46</td>\n",
       "      <td>000100039X</td>\n",
       "      <td>[8, 10]</td>\n",
       "      <td>5.0</td>\n",
       "      <td>Gibran Khalil Gibran was born in 1883 in what ...</td>\n",
       "      <td>01 10, 2006</td>\n",
       "      <td>AWLFVCT9128JV</td>\n",
       "      <td>Dave_42 \"Dave_42\"</td>\n",
       "      <td>The Lessons Of Life</td>\n",
       "      <td>...</td>\n",
       "      <td>10</td>\n",
       "      <td>0.800000</td>\n",
       "      <td>712</td>\n",
       "      <td>19.428571</td>\n",
       "      <td>4.103704</td>\n",
       "      <td>0.816553</td>\n",
       "      <td>0.851511</td>\n",
       "      <td>0.545942</td>\n",
       "      <td>4</td>\n",
       "      <td>1</td>\n",
       "    </tr>\n",
       "    <tr>\n",
       "      <th>3</th>\n",
       "      <td>35</td>\n",
       "      <td>75</td>\n",
       "      <td>000100039X</td>\n",
       "      <td>[10, 12]</td>\n",
       "      <td>5.0</td>\n",
       "      <td>Certainly the words are of Kahlil Gibran, but ...</td>\n",
       "      <td>11 5, 2001</td>\n",
       "      <td>A1SP45I55GQIIE</td>\n",
       "      <td>harendra desai</td>\n",
       "      <td>divine wisdom in  earthly words.</td>\n",
       "      <td>...</td>\n",
       "      <td>12</td>\n",
       "      <td>0.833333</td>\n",
       "      <td>700</td>\n",
       "      <td>21.000000</td>\n",
       "      <td>4.675000</td>\n",
       "      <td>0.851313</td>\n",
       "      <td>0.889774</td>\n",
       "      <td>0.547093</td>\n",
       "      <td>4</td>\n",
       "      <td>1</td>\n",
       "    </tr>\n",
       "    <tr>\n",
       "      <th>4</th>\n",
       "      <td>36</td>\n",
       "      <td>76</td>\n",
       "      <td>000100039X</td>\n",
       "      <td>[0, 13]</td>\n",
       "      <td>2.0</td>\n",
       "      <td>I evidently misread the writeup, I thought it ...</td>\n",
       "      <td>05 3, 2009</td>\n",
       "      <td>A2ZB1G1KUE6OS6</td>\n",
       "      <td>Harley</td>\n",
       "      <td>Unexpected purchase</td>\n",
       "      <td>...</td>\n",
       "      <td>13</td>\n",
       "      <td>0.000000</td>\n",
       "      <td>178</td>\n",
       "      <td>11.666667</td>\n",
       "      <td>3.885714</td>\n",
       "      <td>0.010826</td>\n",
       "      <td>0.000000</td>\n",
       "      <td>0.541325</td>\n",
       "      <td>1</td>\n",
       "      <td>0</td>\n",
       "    </tr>\n",
       "  </tbody>\n",
       "</table>\n",
       "<p>5 rows × 22 columns</p>\n",
       "</div>"
      ],
      "text/plain": [
       "   Unnamed: 0  index        asin   helpful  overall  \\\n",
       "0          14     34  000100039X  [81, 92]      5.0   \n",
       "1          18     43  000100039X   [8, 10]      5.0   \n",
       "2          19     46  000100039X   [8, 10]      5.0   \n",
       "3          35     75  000100039X  [10, 12]      5.0   \n",
       "4          36     76  000100039X   [0, 13]      2.0   \n",
       "\n",
       "                                          reviewText   reviewTime  \\\n",
       "0  This is one of the first (literary) books I re...  06 24, 2000   \n",
       "1  The Prophet is Kahlil Gibran's best known work...  10 27, 2009   \n",
       "2  Gibran Khalil Gibran was born in 1883 in what ...  01 10, 2006   \n",
       "3  Certainly the words are of Kahlil Gibran, but ...   11 5, 2001   \n",
       "4  I evidently misread the writeup, I thought it ...   05 3, 2009   \n",
       "\n",
       "       reviewerID              reviewerName  \\\n",
       "0  A1NPNGWBVD9AK3       Bruce Kendall \"BEK\"   \n",
       "1  A3IS4WGMFR4X65  Colin Lewis \"WisdomNote\"   \n",
       "2   AWLFVCT9128JV         Dave_42 \"Dave_42\"   \n",
       "3  A1SP45I55GQIIE            harendra desai   \n",
       "4  A2ZB1G1KUE6OS6                    Harley   \n",
       "\n",
       "                             summary    ...     Total_Votes  \\\n",
       "0                      Simple Wisdom    ...              92   \n",
       "1  The most loving book ever written    ...              10   \n",
       "2                The Lessons Of Life    ...              10   \n",
       "3   divine wisdom in  earthly words.    ...              12   \n",
       "4                Unexpected purchase    ...              13   \n",
       "\n",
       "   Helpful_Percentage  Review_Length  Sentence_Length  Word_Length  \\\n",
       "0            0.880435           1542        15.000000     4.258865   \n",
       "1            0.800000           2294        22.705882     4.883289   \n",
       "2            0.800000            712        19.428571     4.103704   \n",
       "3            0.833333            700        21.000000     4.675000   \n",
       "4            0.000000            178        11.666667     3.885714   \n",
       "\n",
       "   Helpful_Rating  Helpful_Votes_Scaled  Helpful_Percentage_Book_Score  Badge  \\\n",
       "0        0.921901              0.993132                       0.587119      4   \n",
       "1        0.816553              0.851511                       0.545942      4   \n",
       "2        0.816553              0.851511                       0.545942      4   \n",
       "3        0.851313              0.889774                       0.547093      4   \n",
       "4        0.010826              0.000000                       0.541325      1   \n",
       "\n",
       "   Helpful?  \n",
       "0         1  \n",
       "1         1  \n",
       "2         1  \n",
       "3         1  \n",
       "4         0  \n",
       "\n",
       "[5 rows x 22 columns]"
      ]
     },
     "execution_count": 2,
     "metadata": {},
     "output_type": "execute_result"
    }
   ],
   "source": [
    "# Open DataFrames\n",
    "df = pd.read_csv('df_10.csv')\n",
    "\n",
    "# Show first 5 rows\n",
    "df.head()"
   ]
  },
  {
   "cell_type": "code",
   "execution_count": 3,
   "metadata": {},
   "outputs": [
    {
     "name": "stdout",
     "output_type": "stream",
     "text": [
      "<class 'pandas.core.frame.DataFrame'>\n",
      "RangeIndex: 787981 entries, 0 to 787980\n",
      "Data columns (total 22 columns):\n",
      "Unnamed: 0                       787981 non-null int64\n",
      "index                            787981 non-null int64\n",
      "asin                             787981 non-null object\n",
      "helpful                          787981 non-null object\n",
      "overall                          787981 non-null float64\n",
      "reviewText                       787981 non-null object\n",
      "reviewTime                       787981 non-null object\n",
      "reviewerID                       787981 non-null object\n",
      "reviewerName                     786144 non-null object\n",
      "summary                          787978 non-null object\n",
      "unixReviewTime                   787981 non-null int64\n",
      "Helpful_Votes                    787981 non-null int64\n",
      "Total_Votes                      787981 non-null int64\n",
      "Helpful_Percentage               787981 non-null float64\n",
      "Review_Length                    787981 non-null int64\n",
      "Sentence_Length                  787981 non-null float64\n",
      "Word_Length                      787981 non-null float64\n",
      "Helpful_Rating                   787981 non-null float64\n",
      "Helpful_Votes_Scaled             787981 non-null float64\n",
      "Helpful_Percentage_Book_Score    787981 non-null float64\n",
      "Badge                            787981 non-null int64\n",
      "Helpful?                         787981 non-null int64\n",
      "dtypes: float64(7), int64(8), object(7)\n",
      "memory usage: 132.3+ MB\n"
     ]
    }
   ],
   "source": [
    "df.info()"
   ]
  },
  {
   "cell_type": "code",
   "execution_count": 4,
   "metadata": {},
   "outputs": [],
   "source": [
    "df['Helpful'] = df['Helpful?']"
   ]
  },
  {
   "cell_type": "code",
   "execution_count": 5,
   "metadata": {},
   "outputs": [
    {
     "name": "stdout",
     "output_type": "stream",
     "text": [
      "[nltk_data] Downloading package stopwords to\n",
      "[nltk_data]     /Users/coreyjwade/nltk_data...\n",
      "[nltk_data]   Package stopwords is already up-to-date!\n"
     ]
    }
   ],
   "source": [
    "corpus = df['reviewText']\n",
    "\n",
    "import nltk\n",
    "import re\n",
    "nltk.download('stopwords')\n",
    "\n",
    "wpt = nltk.WordPunctTokenizer()\n",
    "stop_words = nltk.corpus.stopwords.words('english')\n",
    "\n",
    "def normalize_document(doc):\n",
    "    # lower case and remove special characters\\whitespaces\n",
    "    doc = re.sub(r'[^a-zA-Z\\s]', '', doc, re.I|re.A)\n",
    "    doc = doc.lower()\n",
    "    doc = doc.strip()\n",
    "    # tokenize document\n",
    "    tokens = wpt.tokenize(doc)\n",
    "    # filter stopwords out of document\n",
    "    filtered_tokens = [token for token in tokens if token not in stop_words]\n",
    "    # re-create document from filtered tokens\n",
    "    doc = ' '.join(filtered_tokens)\n",
    "    return doc\n",
    "\n",
    "normalize_corpus = np.vectorize(normalize_document)\n",
    "norm_corpus = normalize_corpus(corpus)"
   ]
  },
  {
   "cell_type": "code",
   "execution_count": 6,
   "metadata": {},
   "outputs": [],
   "source": [
    "def make_xy(df, vectorizer):\n",
    "    vectorizer = vectorizer\n",
    "    X = vectorizer.fit_transform(df.reviewText)\n",
    "    X = X.tocsc()  # some versions of sklearn return COO format\n",
    "    y = df.Helpful\n",
    "    return X, y\n",
    "\n",
    "def make_xy_norm(df, vectorizer):\n",
    "    vectorizer = vectorizer\n",
    "    X = vectorizer.fit_transform(norm_corpus)\n",
    "    X = X.tocsc()  # some versions of sklearn return COO format\n",
    "    y = df.Helpful\n",
    "    return X, y"
   ]
  },
  {
   "cell_type": "code",
   "execution_count": 7,
   "metadata": {},
   "outputs": [],
   "source": [
    "vectorizers = [CountVectorizer(), CountVectorizer(ngram_range=(1,2)), CountVectorizer(ngram_range=(1,3)), TfidfVectorizer(), TfidfVectorizer(ngram_range=(1, 2)), TfidfVectorizer(ngram_range=(1, 3))]"
   ]
  },
  {
   "cell_type": "code",
   "execution_count": 8,
   "metadata": {},
   "outputs": [],
   "source": [
    "xy_options = [make_xy, make_xy_norm]"
   ]
  },
  {
   "cell_type": "code",
   "execution_count": 20,
   "metadata": {},
   "outputs": [],
   "source": [
    "# keras_regression_test requires \"from sklearn.model_selection import train_test_split\"\n",
    "\n",
    "def keras_classification_test(X, y, numbers=[128,64], activation='relu', optimizer='adam', loss='binary_crossentropy'):\n",
    "    \n",
    "    X_train, X_test, y_train, y_test = train_test_split(X, y)\n",
    "    \n",
    "    # Save the number of columns in predictors: n_cols\n",
    "    n_cols = X_train.shape[1]\n",
    "    input_shape = (n_cols,)\n",
    "\n",
    "    # Set up the model: model\n",
    "    model = Sequential()\n",
    "    \n",
    "    # Add the first layer\n",
    "    model.add(Dense(numbers[0], activation=activation, input_shape=(n_cols,)))\n",
    "    \n",
    "    # Add addition layers\n",
    "    for i in range(len(numbers)-1):\n",
    "        model.add(Dense(numbers[i+1], activation=activation))\n",
    "\n",
    "    # Add the output layer\n",
    "    model.add(Dense(1, activation='softmax'))\n",
    "\n",
    "    # Compile the model\n",
    "    model.compile(optimizer=optimizer, loss=loss, metrics=['accuracy'])\n",
    "\n",
    "    # Define early_stopping_monitor\n",
    "    early_stopping_monitor = EarlyStopping(patience=2)\n",
    "\n",
    "    # Fit the model\n",
    "    model.fit(X_train, y_train, validation_split=0.3, epochs=30, callbacks=[early_stopping_monitor])\n",
    "    \n",
    "    # Get score for predictions\n",
    "    score = model.evaluate(X_test, y_test)\n",
    "    \n",
    "    # Print score\n",
    "    print(score)"
   ]
  },
  {
   "cell_type": "code",
   "execution_count": 10,
   "metadata": {},
   "outputs": [],
   "source": [
    "df_original = df.copy"
   ]
  },
  {
   "cell_type": "code",
   "execution_count": 11,
   "metadata": {},
   "outputs": [],
   "source": [
    "df = df.sample(frac=0.1)"
   ]
  },
  {
   "cell_type": "code",
   "execution_count": 12,
   "metadata": {},
   "outputs": [
    {
     "data": {
      "text/plain": [
       "78798"
      ]
     },
     "execution_count": 12,
     "metadata": {},
     "output_type": "execute_result"
    }
   ],
   "source": [
    "len(df)"
   ]
  },
  {
   "cell_type": "code",
   "execution_count": 19,
   "metadata": {},
   "outputs": [
    {
     "data": {
      "text/plain": [
       "0.27840808142338636"
      ]
     },
     "execution_count": 19,
     "metadata": {},
     "output_type": "execute_result"
    }
   ],
   "source": [
    "len(df[df['Helpful']==0])/len(df)"
   ]
  },
  {
   "cell_type": "code",
   "execution_count": 13,
   "metadata": {},
   "outputs": [],
   "source": [
    "X, y = make_xy(df, CountVectorizer())"
   ]
  },
  {
   "cell_type": "code",
   "execution_count": 17,
   "metadata": {},
   "outputs": [
    {
     "name": "stdout",
     "output_type": "stream",
     "text": [
      "Train on 41368 samples, validate on 17730 samples\n",
      "Epoch 1/30\n",
      "41368/41368 [==============================] - 465s 11ms/step - loss: 0.4938 - acc: 0.7637 - val_loss: 0.4805 - val_acc: 0.7752\n",
      "Epoch 2/30\n",
      "41368/41368 [==============================] - 467s 11ms/step - loss: 0.3420 - acc: 0.8423 - val_loss: 0.5314 - val_acc: 0.7676\n",
      "Epoch 3/30\n",
      "41368/41368 [==============================] - 447s 11ms/step - loss: 0.1629 - acc: 0.9330 - val_loss: 0.7805 - val_acc: 0.7424\n",
      "19700/19700 [==============================] - 44s 2ms/step\n",
      "[0.7913176821694157, 0.7397969543026184]\n"
     ]
    }
   ],
   "source": [
    "keras_classification_test(X, y, numbers=[128,64])"
   ]
  },
  {
   "cell_type": "code",
   "execution_count": 21,
   "metadata": {},
   "outputs": [],
   "source": [
    "X, y = make_xy(df, CountVectorizer(1,2))"
   ]
  },
  {
   "cell_type": "code",
   "execution_count": 22,
   "metadata": {},
   "outputs": [
    {
     "name": "stdout",
     "output_type": "stream",
     "text": [
      "Train on 41368 samples, validate on 17730 samples\n",
      "Epoch 1/30\n",
      "41368/41368 [==============================] - 348s 8ms/step - loss: 4.4380 - acc: 0.7216 - val_loss: 4.3853 - val_acc: 0.7249\n",
      "Epoch 2/30\n",
      "41368/41368 [==============================] - 355s 9ms/step - loss: 4.4380 - acc: 0.7216 - val_loss: 4.3853 - val_acc: 0.7249\n",
      "Epoch 3/30\n",
      "41368/41368 [==============================] - 373s 9ms/step - loss: 4.4380 - acc: 0.7216 - val_loss: 4.3853 - val_acc: 0.7249\n",
      "19700/19700 [==============================] - 41s 2ms/step\n",
      "[4.487336421133903, 0.7185279188059308]\n"
     ]
    }
   ],
   "source": [
    "keras_classification_test(X, y, numbers=[100,50])"
   ]
  },
  {
   "cell_type": "code",
   "execution_count": 23,
   "metadata": {},
   "outputs": [],
   "source": [
    "X, y = make_xy(df, TfidfVectorizer())"
   ]
  },
  {
   "cell_type": "code",
   "execution_count": 25,
   "metadata": {},
   "outputs": [
    {
     "name": "stdout",
     "output_type": "stream",
     "text": [
      "Train on 41368 samples, validate on 17730 samples\n",
      "Epoch 1/30\n",
      "41368/41368 [==============================] - 426s 10ms/step - loss: 4.4870 - acc: 0.7186 - val_loss: 4.3718 - val_acc: 0.7258\n",
      "Epoch 2/30\n",
      "41368/41368 [==============================] - 427s 10ms/step - loss: 4.4870 - acc: 0.7186 - val_loss: 4.3718 - val_acc: 0.7258\n",
      "Epoch 3/30\n",
      "41368/41368 [==============================] - 434s 10ms/step - loss: 4.4870 - acc: 0.7186 - val_loss: 4.3718 - val_acc: 0.7258\n",
      "19700/19700 [==============================] - 40s 2ms/step\n",
      "[4.39669951375971, 0.7242131979695432]\n"
     ]
    }
   ],
   "source": [
    "keras_classification_test(X, y, numbers=[128,64])"
   ]
  },
  {
   "cell_type": "code",
   "execution_count": null,
   "metadata": {},
   "outputs": [
    {
     "name": "stdout",
     "output_type": "stream",
     "text": [
      "Train on 41368 samples, validate on 17730 samples\n",
      "Epoch 1/30\n",
      "   32/41368 [..............................] - ETA: 42:23 - loss: 2.4910 - acc: 0.8438"
     ]
    }
   ],
   "source": [
    "X, y = make_xy(df, CountVectorizer())\n",
    "keras_classification_test(X, y, numbers=[100, 100, 100])"
   ]
  },
  {
   "cell_type": "code",
   "execution_count": null,
   "metadata": {},
   "outputs": [],
   "source": []
  }
 ],
 "metadata": {
  "kernelspec": {
   "display_name": "Python 3",
   "language": "python",
   "name": "python3"
  },
  "language_info": {
   "codemirror_mode": {
    "name": "ipython",
    "version": 3
   },
   "file_extension": ".py",
   "mimetype": "text/x-python",
   "name": "python",
   "nbconvert_exporter": "python",
   "pygments_lexer": "ipython3",
   "version": "3.6.4"
  }
 },
 "nbformat": 4,
 "nbformat_minor": 2
}
