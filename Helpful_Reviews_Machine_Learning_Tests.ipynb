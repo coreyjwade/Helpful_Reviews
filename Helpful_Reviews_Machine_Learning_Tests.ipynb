{
 "cells": [
  {
   "cell_type": "markdown",
   "metadata": {},
   "source": [
    "# Helpful Reviews Machine Learning Tests"
   ]
  },
  {
   "cell_type": "markdown",
   "metadata": {},
   "source": [
    "This notebook presents an outline of functions and tests that were utilized to select a machine learning model to predict helpful reviews. The number of rows has been limited in order to expedite speed. Tests run with millions of rows gave similar results."
   ]
  },
  {
   "cell_type": "code",
   "execution_count": 1,
   "metadata": {},
   "outputs": [],
   "source": [
    "ROWS = 250000"
   ]
  },
  {
   "cell_type": "code",
   "execution_count": 2,
   "metadata": {},
   "outputs": [
    {
     "name": "stderr",
     "output_type": "stream",
     "text": [
      "/anaconda3/lib/python3.6/site-packages/sklearn/ensemble/weight_boosting.py:29: DeprecationWarning: numpy.core.umath_tests is an internal NumPy module and should not be imported. It will be removed in a future NumPy release.\n",
      "  from numpy.core.umath_tests import inner1d\n"
     ]
    }
   ],
   "source": [
    "# Import essentials\n",
    "import pandas as pd\n",
    "import numpy as np\n",
    "import nltk\n",
    "import re\n",
    "from sklearn.feature_extraction.text import CountVectorizer\n",
    "from sklearn.feature_extraction.text import TfidfVectorizer\n",
    "from sklearn.linear_model import LogisticRegression\n",
    "from sklearn.naive_bayes import MultinomialNB\n",
    "from sklearn.naive_bayes import GaussianNB\n",
    "from sklearn.tree import DecisionTreeClassifier\n",
    "from sklearn.ensemble import RandomForestClassifier\n",
    "from sklearn.datasets import make_classification\n",
    "from sklearn.metrics import roc_auc_score\n",
    "from sklearn.model_selection import cross_val_score, cross_val_predict, cross_validate\n",
    "from sklearn.model_selection import GridSearchCV\n",
    "from scipy.stats import randint\n",
    "from sklearn.model_selection import RandomizedSearchCV\n",
    "from sklearn.metrics import classification_report\n",
    "from sklearn.metrics import confusion_matrix\n",
    "from sklearn.model_selection import train_test_split"
   ]
  },
  {
   "cell_type": "code",
   "execution_count": 3,
   "metadata": {},
   "outputs": [],
   "source": [
    "def helpful_reviews_pipeline(nrows=500000, subset=True):\n",
    "    \n",
    "    # Open Dataframe\n",
    "    if subset:\n",
    "        df = pd.read_csv('df_10.csv', nrows=nrows)\n",
    "    else:\n",
    "        df = pd.read_csv('df_10.csv')\n",
    "        \n",
    "    # Rename column error\n",
    "    df.rename(columns={'Helpful?': 'Helpful'}, inplace=True)\n",
    "    \n",
    "    # Cut Middle Rows\n",
    "    df = cut_middle_rows(df)\n",
    "    \n",
    "    # Choose relevant columns\n",
    "    df = df[['reviewText', 'Helpful']]\n",
    "            \n",
    "    return df"
   ]
  },
  {
   "cell_type": "code",
   "execution_count": 4,
   "metadata": {},
   "outputs": [],
   "source": [
    "# Define function to eliminate middle rows\n",
    "def cut_middle_rows(df, high=0.90, low=0.5, hand_pick=True):\n",
    "\n",
    "    if not hand_pick:\n",
    "        high = df['Helpful_Rating'].median() + MIDDLEPERCENTAGE*0.25\n",
    "        low = df['Helpful_Rating'].median() - MIDDLEPERCENTAGE*0.75\n",
    "\n",
    "    df = df[(df['Helpful_Rating']<low) | (df['Helpful_Rating']>high)]\n",
    "    \n",
    "    print('Length of new dataframe: ', len(df), 'rows.')\n",
    "    \n",
    "    return df"
   ]
  },
  {
   "cell_type": "markdown",
   "metadata": {},
   "source": [
    "## Make Corpus"
   ]
  },
  {
   "cell_type": "code",
   "execution_count": 5,
   "metadata": {},
   "outputs": [],
   "source": [
    "def make_corpus(df):\n",
    "    \n",
    "    def normalize_document(doc):\n",
    "        # lower case and remove special characters\\whitespaces\n",
    "        doc = re.sub(r'[^a-zA-Z\\s]', '', doc, re.I|re.A)\n",
    "        doc = doc.lower()\n",
    "        doc = doc.strip()\n",
    "        # tokenize document\n",
    "        tokens = wpt.tokenize(doc)\n",
    "        # filter stopwords out of document\n",
    "        filtered_tokens = [token for token in tokens if token not in stop_words]\n",
    "        # re-create document from filtered tokens\n",
    "        doc = ' '.join(filtered_tokens)\n",
    "        return doc\n",
    "    \n",
    "    nltk.download('stopwords')\n",
    "\n",
    "    wpt = nltk.WordPunctTokenizer()\n",
    "    stop_words = nltk.corpus.stopwords.words('english')\n",
    "\n",
    "    corpus = df['reviewText']\n",
    "    normalize_corpus = np.vectorize(normalize_document)\n",
    "    norm_corpus = normalize_corpus(corpus)\n",
    "    \n",
    "    return norm_corpus"
   ]
  },
  {
   "cell_type": "markdown",
   "metadata": {},
   "source": [
    "## X,y Functions"
   ]
  },
  {
   "cell_type": "code",
   "execution_count": 6,
   "metadata": {},
   "outputs": [],
   "source": [
    "def make_xy(df, vectorizer):\n",
    "    vectorizer = vectorizer\n",
    "    X = vectorizer.fit_transform(df.reviewText)\n",
    "    X = X.tocsc()  # some versions of sklearn return COO format\n",
    "    y = df['Helpful']\n",
    "    return X, y\n",
    "\n",
    "def make_xy_norm(df, vectorizer, norm_corpus):\n",
    "    vectorizer = vectorizer\n",
    "    X = vectorizer.fit_transform(norm_corpus)\n",
    "    X = X.tocsc()  # some versions of sklearn return COO format\n",
    "    y = df['Helpful']\n",
    "    return X, y"
   ]
  },
  {
   "cell_type": "markdown",
   "metadata": {},
   "source": [
    "## Test Function"
   ]
  },
  {
   "cell_type": "code",
   "execution_count": 7,
   "metadata": {},
   "outputs": [],
   "source": [
    "def run_tests(df, ml_test, vectorizer):\n",
    "    X,y = make_xy(df, vectorizer)\n",
    "    ml_test(X,y)\n",
    "    \n",
    "def run_norm_tests(df, ml_test, vectorizer, norm_corpus):\n",
    "    X,y = make_xy_norm(df, vectorizer, norm_corpus)\n",
    "    ml_test(X,y)"
   ]
  },
  {
   "cell_type": "markdown",
   "metadata": {},
   "source": [
    "## Initial Test Function"
   ]
  },
  {
   "cell_type": "code",
   "execution_count": 8,
   "metadata": {},
   "outputs": [],
   "source": [
    "# Create function to return the results of machine learning tests\n",
    "def ml_classification_initial_tests(X, y, test_pct=0.15):\n",
    "        \n",
    "    #------------------------------------------------------------------------\n",
    "    \n",
    "    # NAIVE BAYES\n",
    "    print('\\nNAIVE BAYES')\n",
    "    \n",
    "    # Create a multinomial classifier\n",
    "    mnb = MultinomialNB()\n",
    "        \n",
    "    # Compute 5-fold cross-validation scores: cv_scores\n",
    "    cv_scores = cross_val_score(mnb, X, y, cv=5)\n",
    "\n",
    "    # Print the 5-fold cross-validation scores\n",
    "    print(cv_scores)\n",
    "\n",
    "    print(\"Average 5-Fold CV Score: {}\".format(np.mean(cv_scores)))\n",
    "    \n",
    "    #------------------------------------------------------------------------\n",
    "\n",
    "    \n",
    "    # LOGISTIC REGRESSION\n",
    "    print('\\nLOGISTIC REGRESSION')\n",
    "\n",
    "    # Instantiate a logistic regression classifier: logreg\n",
    "    lr = LogisticRegression()\n",
    "\n",
    "    # Compute 5-fold cross-validation scores: cv_scores\n",
    "    cv_scores = cross_val_score(lr, X, y, cv=5)\n",
    "\n",
    "    # Print the 5-fold cross-validation scores\n",
    "    print(cv_scores)\n",
    "\n",
    "    print(\"Average 5-Fold CV Score: {}\".format(np.mean(cv_scores)))\n",
    "    \n",
    "    \n",
    "    #------------------------------------------------------------------------\n",
    "    \n",
    "    # DECISION TREE TUNED\n",
    "    print('\\nDECISION TREE')\n",
    "    \n",
    "    # Instantiate a Decision Tree classifier\n",
    "    dt = DecisionTreeClassifier()\n",
    "        \n",
    "    # Compute 5-fold cross-validation scores: cv_scores\n",
    "    cv_scores = cross_val_score(dt, X, y, cv=5)\n",
    "\n",
    "    # Print the 5-fold cross-validation scores\n",
    "    print(cv_scores)\n",
    "\n",
    "    print(\"Average 5-Fold CV Score: {}\".format(np.mean(cv_scores)))\n",
    "    \n",
    "    #------------------------------------------------------------------------\n",
    "    \n",
    "    # RANDOM FORESTS\n",
    "    print('\\nRANDOM FORESTS')\n",
    "    \n",
    "    # Instantiate a Random Forest Classifier\n",
    "    rfc = RandomForestClassifier()\n",
    "    \n",
    "    # Compute 5-fold cross-validation scores: cv_scores\n",
    "    cv_scores = cross_val_score(rfc, X, y, cv=5)\n",
    "\n",
    "    # Print the 5-fold cross-validation scores\n",
    "    print(cv_scores)\n",
    "\n",
    "    print(\"Average 5-Fold CV Score: {}\".format(np.mean(cv_scores)))"
   ]
  },
  {
   "cell_type": "markdown",
   "metadata": {},
   "source": [
    "## Initial Tests"
   ]
  },
  {
   "cell_type": "code",
   "execution_count": 9,
   "metadata": {},
   "outputs": [],
   "source": [
    "def split_data(ROWS, pipeline):\n",
    "    \n",
    "    df = pipeline(nrows=ROWS)\n",
    "    \n",
    "    split = int(len(df)*0.9)\n",
    "    \n",
    "    df_train = df[:split]\n",
    "    print('Length of df_train:', len(df_train))\n",
    "    \n",
    "    df_test = df[split:]\n",
    "    print('Length of df_test:', len(df_test))\n",
    "    \n",
    "    return df_train, df_test"
   ]
  },
  {
   "cell_type": "code",
   "execution_count": 10,
   "metadata": {},
   "outputs": [
    {
     "name": "stdout",
     "output_type": "stream",
     "text": [
      "Length of new dataframe:  104328 rows.\n",
      "Length of df_train: 93895\n",
      "Length of df_test: 10433\n"
     ]
    }
   ],
   "source": [
    "df_train, df_test = split_data(ROWS, helpful_reviews_pipeline)"
   ]
  },
  {
   "cell_type": "code",
   "execution_count": 11,
   "metadata": {},
   "outputs": [
    {
     "name": "stdout",
     "output_type": "stream",
     "text": [
      "[nltk_data] Downloading package stopwords to\n",
      "[nltk_data]     /Users/coreyjwade/nltk_data...\n",
      "[nltk_data]   Package stopwords is already up-to-date!\n",
      "\n",
      "NAIVE BAYES\n",
      "[0.84792332 0.86170723 0.8604292  0.8412056  0.83805517]\n",
      "Average 5-Fold CV Score: 0.8498641049240987\n",
      "\n",
      "LOGISTIC REGRESSION\n",
      "[0.87593184 0.8904095  0.88401938 0.87326269 0.87096602]\n",
      "Average 5-Fold CV Score: 0.8789178873654795\n",
      "\n",
      "DECISION TREE\n",
      "[0.81395101 0.82453805 0.82075723 0.81559188 0.81872404]\n",
      "Average 5-Fold CV Score: 0.8187124423348108\n",
      "\n",
      "RANDOM FORESTS\n",
      "[0.85969116 0.86165398 0.85776665 0.85595612 0.85403131]\n",
      "Average 5-Fold CV Score: 0.8578198449347934\n"
     ]
    }
   ],
   "source": [
    "norm_corpus = make_corpus(df_train)\n",
    "run_tests(df_train, ml_classification_initial_tests, CountVectorizer())"
   ]
  },
  {
   "cell_type": "markdown",
   "metadata": {},
   "source": [
    "Naive Bayes, Logistic Regression and Random Forests are all worth pursuing going forward."
   ]
  },
  {
   "cell_type": "markdown",
   "metadata": {},
   "source": [
    "## HyperParameter Tests"
   ]
  },
  {
   "cell_type": "code",
   "execution_count": 12,
   "metadata": {},
   "outputs": [],
   "source": [
    "# Create function to return the results of machine learning tests\n",
    "def ml_classification_tests(X, y, test_pct=0.15):\n",
    "        \n",
    "    # Split into training and test set\n",
    "    X_train, X_test, y_train, y_test = train_test_split(X, y, test_size = test_pct)\n",
    "    \n",
    "    #------------------------------------------------------------------------\n",
    "    \n",
    "    # NAIVE BAYES\n",
    "    print('\\nNAIVE BAYES')\n",
    "    \n",
    "    #the grid of parameters to search over\n",
    "    alphas = [0.001, 0.01, .1, 1, 5]\n",
    "    \n",
    "    param_grid = {'alpha': alphas}\n",
    "    \n",
    "    # Create a multinomial classifier\n",
    "    mnb = MultinomialNB()\n",
    "    \n",
    "    mnb_cv = GridSearchCV(mnb, param_grid, cv=5)\n",
    "    \n",
    "    # Fit the classifier to the data\n",
    "    mnb_cv.fit(X_train, y_train)\n",
    "    \n",
    "    # Print the tuned parameters and score\n",
    "    print(\"Best Naive Bayes alpha: {}\".format(mnb_cv.best_params_)) \n",
    "    print(\"Best Naive Bayes score: {}\".format(mnb_cv.best_score_))\n",
    "    \n",
    "    # Predict the labels of the test set: y_pred\n",
    "    y_pred = mnb_cv.predict(X_test)\n",
    "\n",
    "    # Compute and print the confusion matrix and classification report\n",
    "    print('Confusion Matrix:', confusion_matrix(y_test, y_pred))\n",
    "    print('Classification Report:', classification_report(y_test, y_pred))\n",
    "    \n",
    "    #------------------------------------------------------------------------\n",
    "    \n",
    "    # LOGISTIC REGRESSION\n",
    "    print('\\nLOGISTIC REGRESSION')\n",
    "    \n",
    "    # Setup the hyperparameter grid\n",
    "    c_space = np.logspace(-5, 8, 10)\n",
    "    param_grid = {'C': c_space}\n",
    "\n",
    "    # Instantiate a logistic regression classifier: logreg\n",
    "    logreg = LogisticRegression()\n",
    "\n",
    "    # Instantiate the GridSearchCV object: logreg_cv\n",
    "    logreg_cv = GridSearchCV(logreg, param_grid, cv=5)\n",
    "\n",
    "    # Fit it to the data\n",
    "    logreg_cv.fit(X_train,y_train)\n",
    "\n",
    "    # Print the tuned parameters and score\n",
    "    print(\"Tuned Logistic Regression Parameters: {}\".format(logreg_cv.best_params_)) \n",
    "    print(\"Best Logistic Regression score: {}\".format(logreg_cv.best_score_))\n",
    "    \n",
    "        # Predict the labels of the test set: y_pred\n",
    "    y_pred = logreg_cv.predict(X_test)\n",
    "\n",
    "    # Compute and print the confusion matrix and classification report\n",
    "    print('Confusion Matrix:', confusion_matrix(y_test, y_pred))\n",
    "    print('Classification Report:', classification_report(y_test, y_pred))    \n",
    "   \n",
    "    #------------------------------------------------------------------------\n",
    "    \n",
    "    # RANDOM FORESTS\n",
    "    print('\\nRANDOM FORESTS')\n",
    "    \n",
    "    # Number of trees in random forest\n",
    "    n_estimators = [int(x) for x in np.linspace(start = 100, stop = 1000, num = 10)]\n",
    "    # Number of features to consider at every split\n",
    "    max_features = ['auto', 'sqrt']\n",
    "    # Maximum number of levels in tree\n",
    "    max_depth = [int(x) for x in np.linspace(10, 100, num = 10)]\n",
    "    max_depth.append(None)\n",
    "    # Minimum number of samples required to split a node\n",
    "    min_samples_split = [2, 5, 10]\n",
    "    # Minimum number of samples required at each leaf node\n",
    "    min_samples_leaf = [1, 2, 4]\n",
    "    # Method of selecting samples for training each tree\n",
    "    bootstrap = [True, False]\n",
    "    # Create the random grid\n",
    "    random_grid = {'n_estimators': n_estimators,\n",
    "               'max_features': max_features,\n",
    "               'max_depth': max_depth,\n",
    "               'min_samples_split': min_samples_split,\n",
    "               'min_samples_leaf': min_samples_leaf,\n",
    "               'bootstrap': bootstrap}    \n",
    "    \n",
    "    # Instantiate a Random Forest Classifier\n",
    "    rfc = RandomForestClassifier()\n",
    "    \n",
    "    # Instantiate RandomizedSearchCV\n",
    "    rf_random = RandomizedSearchCV(estimator = rfc, param_distributions = random_grid, cv = 5, n_jobs = -1, n_iter=5)\n",
    "    \n",
    "    # Fit the random search model\n",
    "    rf_random.fit(X_train, y_train)\n",
    "    \n",
    "    # Print the tuned parameters and score\n",
    "    print(\"Tuned Random Forest Parameters: {}\".format(rf_random.best_params_))\n",
    "    print(\"Best Random Forest score: {}\".format(rf_random.best_score_))\n",
    "    \n",
    "    # Predict the labels of the test set: y_pred\n",
    "    y_pred = mnb_cv.predict(X_test)\n",
    "\n",
    "    # Compute and print the confusion matrix and classification report\n",
    "    print('Confusion Matrix:', confusion_matrix(y_test, y_pred))\n",
    "    print('Classification Report:', classification_report(y_test, y_pred))"
   ]
  },
  {
   "cell_type": "code",
   "execution_count": 13,
   "metadata": {},
   "outputs": [
    {
     "name": "stdout",
     "output_type": "stream",
     "text": [
      "\n",
      "NAIVE BAYES\n",
      "Best Naive Bayes alpha: {'alpha': 1}\n",
      "Best Naive Bayes score: 0.8594286430271896\n",
      "Confusion Matrix: [[ 1589  1270]\n",
      " [  633 10593]]\n",
      "Classification Report:              precision    recall  f1-score   support\n",
      "\n",
      "          0       0.72      0.56      0.63      2859\n",
      "          1       0.89      0.94      0.92     11226\n",
      "\n",
      "avg / total       0.86      0.86      0.86     14085\n",
      "\n",
      "\n",
      "LOGISTIC REGRESSION\n",
      "Tuned Logistic Regression Parameters: {'C': 0.007742636826811269}\n",
      "Best Logistic Regression score: 0.9002380654053377\n",
      "Confusion Matrix: [[ 2024   835]\n",
      " [  516 10710]]\n",
      "Classification Report:              precision    recall  f1-score   support\n",
      "\n",
      "          0       0.80      0.71      0.75      2859\n",
      "          1       0.93      0.95      0.94     11226\n",
      "\n",
      "avg / total       0.90      0.90      0.90     14085\n",
      "\n",
      "\n",
      "RANDOM FORESTS\n",
      "Tuned Random Forest Parameters: {'n_estimators': 100, 'min_samples_split': 5, 'min_samples_leaf': 1, 'max_features': 'auto', 'max_depth': 70, 'bootstrap': False}\n",
      "Best Random Forest score: 0.8646284926700915\n",
      "Confusion Matrix: [[ 1589  1270]\n",
      " [  633 10593]]\n",
      "Classification Report:              precision    recall  f1-score   support\n",
      "\n",
      "          0       0.72      0.56      0.63      2859\n",
      "          1       0.89      0.94      0.92     11226\n",
      "\n",
      "avg / total       0.86      0.86      0.86     14085\n",
      "\n"
     ]
    }
   ],
   "source": [
    "run_tests(df_train, ml_classification_tests, CountVectorizer())"
   ]
  },
  {
   "cell_type": "markdown",
   "metadata": {},
   "source": [
    "Logistic Regression is clearly outperforming Random Forests and Naive Bayes with C=0.007742636826811269.\n",
    "\n",
    "The logistic regression function below can be used for subsequent tests. The Confusion Matrix is essential due to the class imbalance."
   ]
  },
  {
   "cell_type": "code",
   "execution_count": 14,
   "metadata": {},
   "outputs": [],
   "source": [
    "def logistic_regression(X, y, test_pct=0.15):\n",
    "    \n",
    "    # Split into training and test set\n",
    "    X_train, X_test, y_train, y_test = train_test_split(X, y, test_size = test_pct)\n",
    "    \n",
    "    # LOGISTIC REGRESSION\n",
    "    print('\\nLOGISTIC REGRESSION')\n",
    "\n",
    "    # Instantiate a logistic regression classifier: logreg\n",
    "    logreg = LogisticRegression(C=0.007742636826811269)\n",
    "\n",
    "    # Fit it to the data\n",
    "    logreg.fit(X_train,y_train)\n",
    "    \n",
    "    # Predict the labels of the test set: y_pred\n",
    "    y_pred = logreg.predict(X_test)\n",
    "\n",
    "    # Compute and print the confusion matrix and classification report\n",
    "    print('Confusion Matrix:', confusion_matrix(y_test, y_pred))\n",
    "    print('Classification Report:', classification_report(y_test, y_pred))\n",
    "    \n",
    "    return logreg"
   ]
  },
  {
   "cell_type": "markdown",
   "metadata": {},
   "source": [
    "## Choose Vectorizer"
   ]
  },
  {
   "cell_type": "markdown",
   "metadata": {},
   "source": [
    "For each standard vectorizer, CountVectorizer, and TfidfVectorizer, there are various n_gram options."
   ]
  },
  {
   "cell_type": "code",
   "execution_count": 15,
   "metadata": {},
   "outputs": [],
   "source": [
    "def choose_vectorizer(df, ml_test, norm_corpus):\n",
    "    vectorizers = [CountVectorizer(), CountVectorizer(ngram_range=(1,2)), CountVectorizer(ngram_range=(1,3)), TfidfVectorizer(), TfidfVectorizer(ngram_range=(1, 2)), TfidfVectorizer(ngram_range=(1, 3)) ]\n",
    "    for vect in vectorizers:\n",
    "        print(str(vect))\n",
    "        print('\\nmake_xy')\n",
    "        run_tests(df, ml_test, vect)\n",
    "        print('\\nmake_xy_norm')\n",
    "        run_norm_tests(df, ml_test, vect, norm_corpus)\n",
    "        print('\\n')"
   ]
  },
  {
   "cell_type": "code",
   "execution_count": 16,
   "metadata": {},
   "outputs": [
    {
     "name": "stdout",
     "output_type": "stream",
     "text": [
      "CountVectorizer(analyzer='word', binary=False, decode_error='strict',\n",
      "        dtype=<class 'numpy.int64'>, encoding='utf-8', input='content',\n",
      "        lowercase=True, max_df=1.0, max_features=None, min_df=1,\n",
      "        ngram_range=(1, 1), preprocessor=None, stop_words=None,\n",
      "        strip_accents=None, token_pattern='(?u)\\\\b\\\\w\\\\w+\\\\b',\n",
      "        tokenizer=None, vocabulary=None)\n",
      "\n",
      "make_xy\n",
      "\n",
      "LOGISTIC REGRESSION\n",
      "Confusion Matrix: [[ 1941   874]\n",
      " [  500 10770]]\n",
      "Classification Report:              precision    recall  f1-score   support\n",
      "\n",
      "          0       0.80      0.69      0.74      2815\n",
      "          1       0.92      0.96      0.94     11270\n",
      "\n",
      "avg / total       0.90      0.90      0.90     14085\n",
      "\n",
      "\n",
      "make_xy_norm\n",
      "\n",
      "LOGISTIC REGRESSION\n",
      "Confusion Matrix: [[ 1925   930]\n",
      " [  474 10756]]\n",
      "Classification Report:              precision    recall  f1-score   support\n",
      "\n",
      "          0       0.80      0.67      0.73      2855\n",
      "          1       0.92      0.96      0.94     11230\n",
      "\n",
      "avg / total       0.90      0.90      0.90     14085\n",
      "\n",
      "\n",
      "\n",
      "CountVectorizer(analyzer='word', binary=False, decode_error='strict',\n",
      "        dtype=<class 'numpy.int64'>, encoding='utf-8', input='content',\n",
      "        lowercase=True, max_df=1.0, max_features=None, min_df=1,\n",
      "        ngram_range=(1, 2), preprocessor=None, stop_words=None,\n",
      "        strip_accents=None, token_pattern='(?u)\\\\b\\\\w\\\\w+\\\\b',\n",
      "        tokenizer=None, vocabulary=None)\n",
      "\n",
      "make_xy\n",
      "\n",
      "LOGISTIC REGRESSION\n",
      "Confusion Matrix: [[ 2066   816]\n",
      " [  500 10703]]\n",
      "Classification Report:              precision    recall  f1-score   support\n",
      "\n",
      "          0       0.81      0.72      0.76      2882\n",
      "          1       0.93      0.96      0.94     11203\n",
      "\n",
      "avg / total       0.90      0.91      0.90     14085\n",
      "\n",
      "\n",
      "make_xy_norm\n",
      "\n",
      "LOGISTIC REGRESSION\n",
      "Confusion Matrix: [[ 1865   910]\n",
      " [  488 10822]]\n",
      "Classification Report:              precision    recall  f1-score   support\n",
      "\n",
      "          0       0.79      0.67      0.73      2775\n",
      "          1       0.92      0.96      0.94     11310\n",
      "\n",
      "avg / total       0.90      0.90      0.90     14085\n",
      "\n",
      "\n",
      "\n",
      "CountVectorizer(analyzer='word', binary=False, decode_error='strict',\n",
      "        dtype=<class 'numpy.int64'>, encoding='utf-8', input='content',\n",
      "        lowercase=True, max_df=1.0, max_features=None, min_df=1,\n",
      "        ngram_range=(1, 3), preprocessor=None, stop_words=None,\n",
      "        strip_accents=None, token_pattern='(?u)\\\\b\\\\w\\\\w+\\\\b',\n",
      "        tokenizer=None, vocabulary=None)\n",
      "\n",
      "make_xy\n",
      "\n",
      "LOGISTIC REGRESSION\n",
      "Confusion Matrix: [[ 2052   765]\n",
      " [  473 10795]]\n",
      "Classification Report:              precision    recall  f1-score   support\n",
      "\n",
      "          0       0.81      0.73      0.77      2817\n",
      "          1       0.93      0.96      0.95     11268\n",
      "\n",
      "avg / total       0.91      0.91      0.91     14085\n",
      "\n",
      "\n",
      "make_xy_norm\n",
      "\n",
      "LOGISTIC REGRESSION\n",
      "Confusion Matrix: [[ 1977   892]\n",
      " [  524 10692]]\n",
      "Classification Report:              precision    recall  f1-score   support\n",
      "\n",
      "          0       0.79      0.69      0.74      2869\n",
      "          1       0.92      0.95      0.94     11216\n",
      "\n",
      "avg / total       0.90      0.90      0.90     14085\n",
      "\n",
      "\n",
      "\n",
      "TfidfVectorizer(analyzer='word', binary=False, decode_error='strict',\n",
      "        dtype=<class 'numpy.int64'>, encoding='utf-8', input='content',\n",
      "        lowercase=True, max_df=1.0, max_features=None, min_df=0.0,\n",
      "        ngram_range=(1, 1), norm='l2', preprocessor=None, smooth_idf=True,\n",
      "        stop_words=None, strip_accents=None, sublinear_tf=False,\n",
      "        token_pattern='(?u)\\\\b\\\\w\\\\w+\\\\b', tokenizer=None, use_idf=True,\n",
      "        vocabulary=None)\n",
      "\n",
      "make_xy\n",
      "\n",
      "LOGISTIC REGRESSION\n",
      "Confusion Matrix: [[   86  2757]\n",
      " [    2 11240]]\n",
      "Classification Report:              precision    recall  f1-score   support\n",
      "\n",
      "          0       0.98      0.03      0.06      2843\n",
      "          1       0.80      1.00      0.89     11242\n",
      "\n",
      "avg / total       0.84      0.80      0.72     14085\n",
      "\n",
      "\n",
      "make_xy_norm\n",
      "\n",
      "LOGISTIC REGRESSION\n",
      "Confusion Matrix: [[    0  2851]\n",
      " [    0 11234]]\n",
      "Classification Report:              precision    recall  f1-score   support\n",
      "\n",
      "          0       0.00      0.00      0.00      2851\n",
      "          1       0.80      1.00      0.89     11234\n",
      "\n",
      "avg / total       0.64      0.80      0.71     14085\n",
      "\n",
      "\n",
      "\n",
      "TfidfVectorizer(analyzer='word', binary=False, decode_error='strict',\n",
      "        dtype=<class 'numpy.int64'>, encoding='utf-8', input='content',\n",
      "        lowercase=True, max_df=1.0, max_features=None, min_df=0.0,\n",
      "        ngram_range=(1, 2), norm='l2', preprocessor=None, smooth_idf=True,\n",
      "        stop_words=None, strip_accents=None, sublinear_tf=False,\n",
      "        token_pattern='(?u)\\\\b\\\\w\\\\w+\\\\b', tokenizer=None, use_idf=True,\n",
      "        vocabulary=None)\n",
      "\n",
      "make_xy\n"
     ]
    },
    {
     "name": "stderr",
     "output_type": "stream",
     "text": [
      "/anaconda3/lib/python3.6/site-packages/sklearn/metrics/classification.py:1135: UndefinedMetricWarning: Precision and F-score are ill-defined and being set to 0.0 in labels with no predicted samples.\n",
      "  'precision', 'predicted', average, warn_for)\n"
     ]
    },
    {
     "name": "stdout",
     "output_type": "stream",
     "text": [
      "\n",
      "LOGISTIC REGRESSION\n",
      "Confusion Matrix: [[    0  2884]\n",
      " [    0 11201]]\n",
      "Classification Report:              precision    recall  f1-score   support\n",
      "\n",
      "          0       0.00      0.00      0.00      2884\n",
      "          1       0.80      1.00      0.89     11201\n",
      "\n",
      "avg / total       0.63      0.80      0.70     14085\n",
      "\n",
      "\n",
      "make_xy_norm\n"
     ]
    },
    {
     "name": "stderr",
     "output_type": "stream",
     "text": [
      "/anaconda3/lib/python3.6/site-packages/sklearn/metrics/classification.py:1135: UndefinedMetricWarning: Precision and F-score are ill-defined and being set to 0.0 in labels with no predicted samples.\n",
      "  'precision', 'predicted', average, warn_for)\n"
     ]
    },
    {
     "name": "stdout",
     "output_type": "stream",
     "text": [
      "\n",
      "LOGISTIC REGRESSION\n",
      "Confusion Matrix: [[    0  2753]\n",
      " [    0 11332]]\n",
      "Classification Report:              precision    recall  f1-score   support\n",
      "\n",
      "          0       0.00      0.00      0.00      2753\n",
      "          1       0.80      1.00      0.89     11332\n",
      "\n",
      "avg / total       0.65      0.80      0.72     14085\n",
      "\n",
      "\n",
      "\n",
      "TfidfVectorizer(analyzer='word', binary=False, decode_error='strict',\n",
      "        dtype=<class 'numpy.int64'>, encoding='utf-8', input='content',\n",
      "        lowercase=True, max_df=1.0, max_features=None, min_df=0.0,\n",
      "        ngram_range=(1, 3), norm='l2', preprocessor=None, smooth_idf=True,\n",
      "        stop_words=None, strip_accents=None, sublinear_tf=False,\n",
      "        token_pattern='(?u)\\\\b\\\\w\\\\w+\\\\b', tokenizer=None, use_idf=True,\n",
      "        vocabulary=None)\n",
      "\n",
      "make_xy\n",
      "\n",
      "LOGISTIC REGRESSION\n",
      "Confusion Matrix: [[    0  2872]\n",
      " [    0 11213]]\n",
      "Classification Report:              precision    recall  f1-score   support\n",
      "\n",
      "          0       0.00      0.00      0.00      2872\n",
      "          1       0.80      1.00      0.89     11213\n",
      "\n",
      "avg / total       0.63      0.80      0.71     14085\n",
      "\n",
      "\n",
      "make_xy_norm\n"
     ]
    },
    {
     "name": "stderr",
     "output_type": "stream",
     "text": [
      "/anaconda3/lib/python3.6/site-packages/sklearn/metrics/classification.py:1135: UndefinedMetricWarning: Precision and F-score are ill-defined and being set to 0.0 in labels with no predicted samples.\n",
      "  'precision', 'predicted', average, warn_for)\n"
     ]
    },
    {
     "name": "stdout",
     "output_type": "stream",
     "text": [
      "\n",
      "LOGISTIC REGRESSION\n",
      "Confusion Matrix: [[    0  2787]\n",
      " [    0 11298]]\n",
      "Classification Report:              precision    recall  f1-score   support\n",
      "\n",
      "          0       0.00      0.00      0.00      2787\n",
      "          1       0.80      1.00      0.89     11298\n",
      "\n",
      "avg / total       0.64      0.80      0.71     14085\n",
      "\n",
      "\n",
      "\n"
     ]
    }
   ],
   "source": [
    "choose_vectorizer(df_train, logistic_regression, norm_corpus)"
   ]
  },
  {
   "cell_type": "markdown",
   "metadata": {},
   "source": [
    "make_xy is consistently outperforming make_xy-norm. CountVectorizer(n_gram=(1,3)) is currently best, but CountVectorizer(n_gram=(1,2)) is close and faster.\n",
    "\n",
    "(There was an error in this round with TfidfVectorizer. It shouldn't be 0. In previous tests it underperformed against CountVectorizer, but it can be checked later.)"
   ]
  },
  {
   "cell_type": "markdown",
   "metadata": {},
   "source": [
    "## Vectorizer Parameters"
   ]
  },
  {
   "cell_type": "markdown",
   "metadata": {},
   "source": [
    "Logistic regression has a min_df parameter that can be tuned to obtain better results. When between 0 and 1, it discounts the percentage of frequency of words. For instance, df_min = 0.01 would discount words that appear in less than 1% of documents."
   ]
  },
  {
   "cell_type": "code",
   "execution_count": 17,
   "metadata": {},
   "outputs": [],
   "source": [
    "%matplotlib inline\n",
    "import numpy as np\n",
    "import scipy as sp\n",
    "import matplotlib as mpl\n",
    "import matplotlib.cm as cm\n",
    "import matplotlib.pyplot as plt\n",
    "import pandas as pd\n",
    "import seaborn as sns\n",
    "from six.moves import range\n",
    "\n",
    "# Setup Seaborn\n",
    "sns.set_style(\"whitegrid\")\n",
    "sns.set_context(\"poster\")"
   ]
  },
  {
   "cell_type": "code",
   "execution_count": 18,
   "metadata": {},
   "outputs": [],
   "source": [
    "# Define Cumulative Frequency function\n",
    "def ecdf(data):\n",
    "    \"\"\"Compute ECDF for a one-dimensional array of measurements.\"\"\"\n",
    "\n",
    "    # Number of data points: n\n",
    "    n = len(data)\n",
    "\n",
    "    # x-data for the ECDF: x\n",
    "    x = np.sort(data)\n",
    "\n",
    "    # y-data for the ECDF: y\n",
    "    y = np.arange(1, n+1) / n\n",
    "\n",
    "    return x, y"
   ]
  },
  {
   "cell_type": "code",
   "execution_count": 19,
   "metadata": {},
   "outputs": [],
   "source": [
    "# Turn X (df.reviewText) into one dimensional array\n",
    "def sort_reviews_into_1D_list(df, vectorizer):\n",
    "    X = vectorizer.fit_transform(df.reviewText)\n",
    "    review_list = list(sorted((X > 0).sum(axis=0).reshape(-1).tolist()[0]))\n",
    "    return review_list"
   ]
  },
  {
   "cell_type": "code",
   "execution_count": 20,
   "metadata": {},
   "outputs": [],
   "source": [
    "review_list = sort_reviews_into_1D_list(df_train, CountVectorizer(ngram_range=(1,2)))"
   ]
  },
  {
   "cell_type": "markdown",
   "metadata": {},
   "source": [
    "#### Graph Word Frequency"
   ]
  },
  {
   "cell_type": "code",
   "execution_count": 21,
   "metadata": {},
   "outputs": [
    {
     "data": {
      "text/plain": [
       "Text(0.5,1,'Word Frequency')"
      ]
     },
     "execution_count": 21,
     "metadata": {},
     "output_type": "execute_result"
    },
    {
     "data": {
      "image/png": "[encoded data removed]",
      "text/plain": [
       "<Figure size 432x288 with 1 Axes>"
      ]
     },
     "metadata": {},
     "output_type": "display_data"
    }
   ],
   "source": [
    "# Compute ECDF\n",
    "x1, y1 = ecdf(review_list)\n",
    "\n",
    "# Generate plot\n",
    "plt.plot(x1, y1, marker='.', linestyle='none')\n",
    "\n",
    "# Make the margins nice\n",
    "plt.margins(.02)\n",
    "\n",
    "# Label the axes\n",
    "plt.xlabel('Word Count')\n",
    "plt.ylabel('ECDF')\n",
    "plt.title('Word Frequency')"
   ]
  },
  {
   "cell_type": "code",
   "execution_count": 22,
   "metadata": {},
   "outputs": [
    {
     "data": {
      "text/plain": [
       "(0, 80)"
      ]
     },
     "execution_count": 22,
     "metadata": {},
     "output_type": "execute_result"
    },
    {
     "data": {
      "image/png": "[encoded data removed]",
      "text/plain": [
       "<Figure size 432x288 with 1 Axes>"
      ]
     },
     "metadata": {},
     "output_type": "display_data"
    }
   ],
   "source": [
    "# Generate reduced plot\n",
    "plt.plot(x1, y1, marker='.', linestyle='none')\n",
    "\n",
    "# Make the margins nice\n",
    "plt.margins(.02)\n",
    "\n",
    "# Label the axes\n",
    "plt.xlabel('Word Count')\n",
    "plt.ylabel('ECDF')\n",
    "\n",
    "#Limit axes\n",
    "plt.xlim(0,80)"
   ]
  },
  {
   "cell_type": "code",
   "execution_count": 23,
   "metadata": {},
   "outputs": [
    {
     "data": {
      "text/plain": [
       "(0, 20)"
      ]
     },
     "execution_count": 23,
     "metadata": {},
     "output_type": "execute_result"
    },
    {
     "data": {
      "image/png": "[encoded data removed]",
      "text/plain": [
       "<Figure size 432x288 with 1 Axes>"
      ]
     },
     "metadata": {},
     "output_type": "display_data"
    }
   ],
   "source": [
    "# Generate reduced plot\n",
    "plt.plot(x1, y1, marker='.', linestyle='none')\n",
    "\n",
    "# Make the margins nice\n",
    "plt.margins(.02)\n",
    "\n",
    "# Label the axes\n",
    "plt.xlabel('Word Count')\n",
    "plt.ylabel('ECDF')\n",
    "\n",
    "#Limit axes\n",
    "plt.xlim(0,20)"
   ]
  },
  {
   "cell_type": "markdown",
   "metadata": {},
   "source": [
    "The graph above indicates that 70% of the distinct one and two-word combinations in the entire corpus only appear once. The graph suggests that we try df_mins of 2-10.\n",
    "\n",
    "A df_min of 2 means that the classifer will discount all words that appear in less than 2 reviews. There is also an option to use percentages."
   ]
  },
  {
   "cell_type": "markdown",
   "metadata": {},
   "source": [
    "#### Adjust min_df"
   ]
  },
  {
   "cell_type": "code",
   "execution_count": 24,
   "metadata": {},
   "outputs": [],
   "source": [
    "def min_df(df, test):\n",
    "    min_dfs = [1, 2, 3, 4, 6, 8, 10]\n",
    "    for val in min_dfs:\n",
    "        vect = CountVectorizer(ngram_range=(1,2), min_df=val)\n",
    "        print(vect)\n",
    "        run_tests(df, test, vect)\n",
    "        print('\\n')"
   ]
  },
  {
   "cell_type": "code",
   "execution_count": 25,
   "metadata": {},
   "outputs": [
    {
     "name": "stdout",
     "output_type": "stream",
     "text": [
      "CountVectorizer(analyzer='word', binary=False, decode_error='strict',\n",
      "        dtype=<class 'numpy.int64'>, encoding='utf-8', input='content',\n",
      "        lowercase=True, max_df=1.0, max_features=None, min_df=1,\n",
      "        ngram_range=(1, 2), preprocessor=None, stop_words=None,\n",
      "        strip_accents=None, token_pattern='(?u)\\\\b\\\\w\\\\w+\\\\b',\n",
      "        tokenizer=None, vocabulary=None)\n",
      "\n",
      "LOGISTIC REGRESSION\n",
      "Confusion Matrix: [[ 2108   806]\n",
      " [  493 10678]]\n",
      "Classification Report:              precision    recall  f1-score   support\n",
      "\n",
      "          0       0.81      0.72      0.76      2914\n",
      "          1       0.93      0.96      0.94     11171\n",
      "\n",
      "avg / total       0.91      0.91      0.91     14085\n",
      "\n",
      "\n",
      "\n",
      "CountVectorizer(analyzer='word', binary=False, decode_error='strict',\n",
      "        dtype=<class 'numpy.int64'>, encoding='utf-8', input='content',\n",
      "        lowercase=True, max_df=1.0, max_features=None, min_df=2,\n",
      "        ngram_range=(1, 2), preprocessor=None, stop_words=None,\n",
      "        strip_accents=None, token_pattern='(?u)\\\\b\\\\w\\\\w+\\\\b',\n",
      "        tokenizer=None, vocabulary=None)\n",
      "\n",
      "LOGISTIC REGRESSION\n",
      "Confusion Matrix: [[ 2097   736]\n",
      " [  549 10703]]\n",
      "Classification Report:              precision    recall  f1-score   support\n",
      "\n",
      "          0       0.79      0.74      0.77      2833\n",
      "          1       0.94      0.95      0.94     11252\n",
      "\n",
      "avg / total       0.91      0.91      0.91     14085\n",
      "\n",
      "\n",
      "\n",
      "CountVectorizer(analyzer='word', binary=False, decode_error='strict',\n",
      "        dtype=<class 'numpy.int64'>, encoding='utf-8', input='content',\n",
      "        lowercase=True, max_df=1.0, max_features=None, min_df=3,\n",
      "        ngram_range=(1, 2), preprocessor=None, stop_words=None,\n",
      "        strip_accents=None, token_pattern='(?u)\\\\b\\\\w\\\\w+\\\\b',\n",
      "        tokenizer=None, vocabulary=None)\n",
      "\n",
      "LOGISTIC REGRESSION\n",
      "Confusion Matrix: [[ 2032   830]\n",
      " [  521 10702]]\n",
      "Classification Report:              precision    recall  f1-score   support\n",
      "\n",
      "          0       0.80      0.71      0.75      2862\n",
      "          1       0.93      0.95      0.94     11223\n",
      "\n",
      "avg / total       0.90      0.90      0.90     14085\n",
      "\n",
      "\n",
      "\n",
      "CountVectorizer(analyzer='word', binary=False, decode_error='strict',\n",
      "        dtype=<class 'numpy.int64'>, encoding='utf-8', input='content',\n",
      "        lowercase=True, max_df=1.0, max_features=None, min_df=4,\n",
      "        ngram_range=(1, 2), preprocessor=None, stop_words=None,\n",
      "        strip_accents=None, token_pattern='(?u)\\\\b\\\\w\\\\w+\\\\b',\n",
      "        tokenizer=None, vocabulary=None)\n",
      "\n",
      "LOGISTIC REGRESSION\n",
      "Confusion Matrix: [[ 2044   765]\n",
      " [  513 10763]]\n",
      "Classification Report:              precision    recall  f1-score   support\n",
      "\n",
      "          0       0.80      0.73      0.76      2809\n",
      "          1       0.93      0.95      0.94     11276\n",
      "\n",
      "avg / total       0.91      0.91      0.91     14085\n",
      "\n",
      "\n",
      "\n",
      "CountVectorizer(analyzer='word', binary=False, decode_error='strict',\n",
      "        dtype=<class 'numpy.int64'>, encoding='utf-8', input='content',\n",
      "        lowercase=True, max_df=1.0, max_features=None, min_df=6,\n",
      "        ngram_range=(1, 2), preprocessor=None, stop_words=None,\n",
      "        strip_accents=None, token_pattern='(?u)\\\\b\\\\w\\\\w+\\\\b',\n",
      "        tokenizer=None, vocabulary=None)\n",
      "\n",
      "LOGISTIC REGRESSION\n",
      "Confusion Matrix: [[ 2111   790]\n",
      " [  504 10680]]\n",
      "Classification Report:              precision    recall  f1-score   support\n",
      "\n",
      "          0       0.81      0.73      0.77      2901\n",
      "          1       0.93      0.95      0.94     11184\n",
      "\n",
      "avg / total       0.91      0.91      0.91     14085\n",
      "\n",
      "\n",
      "\n",
      "CountVectorizer(analyzer='word', binary=False, decode_error='strict',\n",
      "        dtype=<class 'numpy.int64'>, encoding='utf-8', input='content',\n",
      "        lowercase=True, max_df=1.0, max_features=None, min_df=8,\n",
      "        ngram_range=(1, 2), preprocessor=None, stop_words=None,\n",
      "        strip_accents=None, token_pattern='(?u)\\\\b\\\\w\\\\w+\\\\b',\n",
      "        tokenizer=None, vocabulary=None)\n",
      "\n",
      "LOGISTIC REGRESSION\n",
      "Confusion Matrix: [[ 2080   832]\n",
      " [  478 10695]]\n",
      "Classification Report:              precision    recall  f1-score   support\n",
      "\n",
      "          0       0.81      0.71      0.76      2912\n",
      "          1       0.93      0.96      0.94     11173\n",
      "\n",
      "avg / total       0.90      0.91      0.90     14085\n",
      "\n",
      "\n",
      "\n",
      "CountVectorizer(analyzer='word', binary=False, decode_error='strict',\n",
      "        dtype=<class 'numpy.int64'>, encoding='utf-8', input='content',\n",
      "        lowercase=True, max_df=1.0, max_features=None, min_df=10,\n",
      "        ngram_range=(1, 2), preprocessor=None, stop_words=None,\n",
      "        strip_accents=None, token_pattern='(?u)\\\\b\\\\w\\\\w+\\\\b',\n",
      "        tokenizer=None, vocabulary=None)\n",
      "\n",
      "LOGISTIC REGRESSION\n",
      "Confusion Matrix: [[ 2047   806]\n",
      " [  513 10719]]\n",
      "Classification Report:              precision    recall  f1-score   support\n",
      "\n",
      "          0       0.80      0.72      0.76      2853\n",
      "          1       0.93      0.95      0.94     11232\n",
      "\n",
      "avg / total       0.90      0.91      0.90     14085\n",
      "\n",
      "\n",
      "\n"
     ]
    }
   ],
   "source": [
    "min_df(df_train, logistic_regression)"
   ]
  },
  {
   "cell_type": "markdown",
   "metadata": {},
   "source": [
    "The best results comes from min_df = 2, and min_df=6."
   ]
  },
  {
   "cell_type": "markdown",
   "metadata": {},
   "source": [
    "#### Max Graphs"
   ]
  },
  {
   "cell_type": "markdown",
   "metadata": {},
   "source": [
    "I will use the new dataset, df_overall_2, to determine a max_df since it's larger than the previous dataset. A max_df of 0.99 would discount words that appear in more than 99% of all documents, presumably words like 'a', 'the', and other common words."
   ]
  },
  {
   "cell_type": "code",
   "execution_count": 26,
   "metadata": {},
   "outputs": [
    {
     "data": {
      "image/png": "[encoded data removed]",
      "text/plain": [
       "<Figure size 432x288 with 1 Axes>"
      ]
     },
     "metadata": {},
     "output_type": "display_data"
    }
   ],
   "source": [
    "# Generate max plot\n",
    "plt.plot(x1, y1, marker='.', linestyle='none')\n",
    "\n",
    "# Make the margins nice\n",
    "plt.margins(.02)\n",
    "\n",
    "# Label the axes\n",
    "plt.xlabel('Word Count')\n",
    "plt.ylabel('ECDF')\n",
    "plt.title('Word Frequency')\n",
    "\n",
    "#Limit axes\n",
    "plt.ylim(0.95, 1.001)\n",
    "plt.show()"
   ]
  },
  {
   "cell_type": "code",
   "execution_count": 27,
   "metadata": {},
   "outputs": [
    {
     "data": {
      "image/png": "[encoded data removed]",
      "text/plain": [
       "<Figure size 432x288 with 1 Axes>"
      ]
     },
     "metadata": {},
     "output_type": "display_data"
    }
   ],
   "source": [
    "# Generate zoom plot\n",
    "plt.plot(x1, y1, marker='.', linestyle='none')\n",
    "\n",
    "# Make the margins nice\n",
    "plt.margins(.02)\n",
    "\n",
    "# Label the axes\n",
    "plt.xlabel('Word Count')\n",
    "plt.ylabel('ECDF')\n",
    "plt.title('Word Frequency')\n",
    "\n",
    "#Limit axes\n",
    "plt.ylim(0.995, 1.001)\n",
    "plt.show()"
   ]
  },
  {
   "cell_type": "markdown",
   "metadata": {},
   "source": [
    "The graph really changes at around 0.999"
   ]
  },
  {
   "cell_type": "markdown",
   "metadata": {},
   "source": [
    "#### Test Percentages"
   ]
  },
  {
   "cell_type": "code",
   "execution_count": 28,
   "metadata": {},
   "outputs": [],
   "source": [
    "def max_df(df, test):\n",
    "    max_dfs = [0.9, 0.99, 0.999, 0.9999, 1.0]\n",
    "    for val in max_dfs:\n",
    "        vect = CountVectorizer(ngram_range=(1,2), max_df=val)\n",
    "        print(vect)\n",
    "        run_tests(df, test, vect)\n",
    "        print('\\n')"
   ]
  },
  {
   "cell_type": "code",
   "execution_count": 29,
   "metadata": {},
   "outputs": [
    {
     "name": "stdout",
     "output_type": "stream",
     "text": [
      "CountVectorizer(analyzer='word', binary=False, decode_error='strict',\n",
      "        dtype=<class 'numpy.int64'>, encoding='utf-8', input='content',\n",
      "        lowercase=True, max_df=0.9, max_features=None, min_df=1,\n",
      "        ngram_range=(1, 2), preprocessor=None, stop_words=None,\n",
      "        strip_accents=None, token_pattern='(?u)\\\\b\\\\w\\\\w+\\\\b',\n",
      "        tokenizer=None, vocabulary=None)\n",
      "\n",
      "LOGISTIC REGRESSION\n",
      "Confusion Matrix: [[ 2055   835]\n",
      " [  525 10670]]\n",
      "Classification Report:              precision    recall  f1-score   support\n",
      "\n",
      "          0       0.80      0.71      0.75      2890\n",
      "          1       0.93      0.95      0.94     11195\n",
      "\n",
      "avg / total       0.90      0.90      0.90     14085\n",
      "\n",
      "\n",
      "\n",
      "CountVectorizer(analyzer='word', binary=False, decode_error='strict',\n",
      "        dtype=<class 'numpy.int64'>, encoding='utf-8', input='content',\n",
      "        lowercase=True, max_df=0.99, max_features=None, min_df=1,\n",
      "        ngram_range=(1, 2), preprocessor=None, stop_words=None,\n",
      "        strip_accents=None, token_pattern='(?u)\\\\b\\\\w\\\\w+\\\\b',\n",
      "        tokenizer=None, vocabulary=None)\n",
      "\n",
      "LOGISTIC REGRESSION\n",
      "Confusion Matrix: [[ 2026   791]\n",
      " [  531 10737]]\n",
      "Classification Report:              precision    recall  f1-score   support\n",
      "\n",
      "          0       0.79      0.72      0.75      2817\n",
      "          1       0.93      0.95      0.94     11268\n",
      "\n",
      "avg / total       0.90      0.91      0.90     14085\n",
      "\n",
      "\n",
      "\n",
      "CountVectorizer(analyzer='word', binary=False, decode_error='strict',\n",
      "        dtype=<class 'numpy.int64'>, encoding='utf-8', input='content',\n",
      "        lowercase=True, max_df=0.999, max_features=None, min_df=1,\n",
      "        ngram_range=(1, 2), preprocessor=None, stop_words=None,\n",
      "        strip_accents=None, token_pattern='(?u)\\\\b\\\\w\\\\w+\\\\b',\n",
      "        tokenizer=None, vocabulary=None)\n",
      "\n",
      "LOGISTIC REGRESSION\n",
      "Confusion Matrix: [[ 1993   773]\n",
      " [  514 10805]]\n",
      "Classification Report:              precision    recall  f1-score   support\n",
      "\n",
      "          0       0.79      0.72      0.76      2766\n",
      "          1       0.93      0.95      0.94     11319\n",
      "\n",
      "avg / total       0.91      0.91      0.91     14085\n",
      "\n",
      "\n",
      "\n",
      "CountVectorizer(analyzer='word', binary=False, decode_error='strict',\n",
      "        dtype=<class 'numpy.int64'>, encoding='utf-8', input='content',\n",
      "        lowercase=True, max_df=0.9999, max_features=None, min_df=1,\n",
      "        ngram_range=(1, 2), preprocessor=None, stop_words=None,\n",
      "        strip_accents=None, token_pattern='(?u)\\\\b\\\\w\\\\w+\\\\b',\n",
      "        tokenizer=None, vocabulary=None)\n",
      "\n",
      "LOGISTIC REGRESSION\n",
      "Confusion Matrix: [[ 2067   761]\n",
      " [  555 10702]]\n",
      "Classification Report:              precision    recall  f1-score   support\n",
      "\n",
      "          0       0.79      0.73      0.76      2828\n",
      "          1       0.93      0.95      0.94     11257\n",
      "\n",
      "avg / total       0.90      0.91      0.91     14085\n",
      "\n",
      "\n",
      "\n",
      "CountVectorizer(analyzer='word', binary=False, decode_error='strict',\n",
      "        dtype=<class 'numpy.int64'>, encoding='utf-8', input='content',\n",
      "        lowercase=True, max_df=1.0, max_features=None, min_df=1,\n",
      "        ngram_range=(1, 2), preprocessor=None, stop_words=None,\n",
      "        strip_accents=None, token_pattern='(?u)\\\\b\\\\w\\\\w+\\\\b',\n",
      "        tokenizer=None, vocabulary=None)\n",
      "\n",
      "LOGISTIC REGRESSION\n",
      "Confusion Matrix: [[ 2023   796]\n",
      " [  501 10765]]\n",
      "Classification Report:              precision    recall  f1-score   support\n",
      "\n",
      "          0       0.80      0.72      0.76      2819\n",
      "          1       0.93      0.96      0.94     11266\n",
      "\n",
      "avg / total       0.91      0.91      0.91     14085\n",
      "\n",
      "\n",
      "\n"
     ]
    }
   ],
   "source": [
    "max_df(df_train, logistic_regression)"
   ]
  },
  {
   "cell_type": "markdown",
   "metadata": {},
   "source": [
    "The best results for df_train are max_df=1.0. "
   ]
  },
  {
   "cell_type": "markdown",
   "metadata": {},
   "source": [
    "## Evaluate Combined Model"
   ]
  },
  {
   "cell_type": "code",
   "execution_count": 31,
   "metadata": {},
   "outputs": [],
   "source": [
    "from sklearn.externals import joblib\n",
    "\n",
    "def log_reg_fin(X, y):\n",
    "        \n",
    "    lr = LogisticRegression(C=0.007742636826811269)\n",
    "    \n",
    "    lr.fit(X, y)\n",
    "    \n",
    "    scores = cross_val_score(lr, X, y, cv=5)\n",
    "\n",
    "    print(\"Accuracy: %0.2f (+/- %0.2f)\" % (scores.mean(), scores.std() * 2))\n",
    "        \n",
    "    predicted = cross_val_predict(lr, X, y, cv=5)\n",
    "    \n",
    "    report = classification_report(y, predicted) \n",
    "    \n",
    "    print('\\n')    \n",
    "    print(report)\n",
    "    \n",
    "    joblib.dump(lr, 'lr_model.pkl')\n",
    "    print('Logistic Regression model saved as \"lr_model.pkl\"')\n",
    "    \n",
    "    return lr"
   ]
  },
  {
   "cell_type": "code",
   "execution_count": 32,
   "metadata": {},
   "outputs": [
    {
     "name": "stdout",
     "output_type": "stream",
     "text": [
      "Accuracy: 0.90 (+/- 0.01)\n",
      "\n",
      "\n",
      "             precision    recall  f1-score   support\n",
      "\n",
      "          0       0.79      0.71      0.75     19006\n",
      "          1       0.93      0.95      0.94     74889\n",
      "\n",
      "avg / total       0.90      0.90      0.90     93895\n",
      "\n",
      "Logistic Regression model saved as \"lr_model.pkl\"\n"
     ]
    }
   ],
   "source": [
    "run_tests(df_train, log_reg_fin, CountVectorizer(ngram_range=(1,3), max_df=1.0, min_df=2))"
   ]
  },
  {
   "cell_type": "code",
   "execution_count": 33,
   "metadata": {},
   "outputs": [
    {
     "name": "stdout",
     "output_type": "stream",
     "text": [
      "Accuracy: 0.88 (+/- 0.03)\n",
      "\n",
      "\n",
      "             precision    recall  f1-score   support\n",
      "\n",
      "          0       0.77      0.54      0.63      2084\n",
      "          1       0.89      0.96      0.92      8349\n",
      "\n",
      "avg / total       0.87      0.88      0.87     10433\n",
      "\n",
      "Logistic Regression model saved as \"lr_model.pkl\"\n"
     ]
    }
   ],
   "source": [
    "run_tests(df_test, log_reg_fin, CountVectorizer(ngram_range=(1,3), max_df=1.0, min_df=2))"
   ]
  },
  {
   "cell_type": "markdown",
   "metadata": {},
   "source": [
    "## Star Tests"
   ]
  },
  {
   "cell_type": "markdown",
   "metadata": {},
   "source": [
    "It's worth running the same tests to try and determine if someone likes or dislikes a book basked on the review. This can translate directly to the number of stars given."
   ]
  },
  {
   "cell_type": "markdown",
   "metadata": {},
   "source": [
    "#### Create Stars Column (binary)"
   ]
  },
  {
   "cell_type": "code",
   "execution_count": null,
   "metadata": {},
   "outputs": [],
   "source": [
    "df_10 = pd.read_csv('df_10.csv')"
   ]
  },
  {
   "cell_type": "code",
   "execution_count": null,
   "metadata": {},
   "outputs": [],
   "source": [
    "# Define function\n",
    "def stars(row):\n",
    "    # Give 1 star reviews a value of 0\n",
    "    if row['overall']==1:\n",
    "        return 0\n",
    "    # Give 2 star reviews a value of 0\n",
    "    elif row['overall']==2:\n",
    "        return 0\n",
    "    # Give 3 star reviews a value of 0\n",
    "    elif row['overall']==3:\n",
    "        return 0\n",
    "    # Give 4,5 star reviews a value of 0\n",
    "    else:\n",
    "        return 1\n",
    "\n",
    "# Create column\n",
    "df_10['Stars'] = df_10.apply(stars, axis=1)"
   ]
  },
  {
   "cell_type": "code",
   "execution_count": null,
   "metadata": {},
   "outputs": [],
   "source": [
    "# Save updated file\n",
    "df_10.to_csv('df_10.csv')"
   ]
  },
  {
   "cell_type": "code",
   "execution_count": null,
   "metadata": {},
   "outputs": [],
   "source": [
    "# Define new dataframe that eliminates the middle, 3 and 4-star reviews\n",
    "#df_stars = df_10[(df_10['overall']!=3) | (df_10['overall']!=4)]\n",
    "df_stars = df_10[(df_10['overall']!=3)]\n",
    "\n",
    "# Save updated file\n",
    "df_stars.to_csv('df_stars.csv')"
   ]
  },
  {
   "cell_type": "code",
   "execution_count": 34,
   "metadata": {},
   "outputs": [],
   "source": [
    "def star_reviews_pipeline(nrows=10000, subset=True):\n",
    "    \n",
    "    # Open Dataframe\n",
    "    if subset:\n",
    "        df = pd.read_csv('df_stars.csv', nrows=nrows)\n",
    "    else:\n",
    "        df = pd.read_csv('df_stars.csv')\n",
    "    \n",
    "    # Choose relevant columns\n",
    "    df = df[['reviewText', 'Stars']]\n",
    "            \n",
    "    return df"
   ]
  },
  {
   "cell_type": "markdown",
   "metadata": {},
   "source": [
    "#### Adjust Functions for Initial Tests"
   ]
  },
  {
   "cell_type": "code",
   "execution_count": 35,
   "metadata": {},
   "outputs": [],
   "source": [
    "def make_xy_stars(df, vectorizer):\n",
    "    vectorizer = vectorizer\n",
    "    X = vectorizer.fit_transform(df.reviewText)\n",
    "    X = X.tocsc()  # some versions of sklearn return COO format\n",
    "    y = df.Stars\n",
    "    return X, y"
   ]
  },
  {
   "cell_type": "code",
   "execution_count": 36,
   "metadata": {},
   "outputs": [],
   "source": [
    "def run_star_tests(df, ml_test, vectorizer):\n",
    "    X,y = make_xy_stars(df, vectorizer)\n",
    "    ml_test(X,y)"
   ]
  },
  {
   "cell_type": "markdown",
   "metadata": {},
   "source": [
    "#### Initial Test"
   ]
  },
  {
   "cell_type": "code",
   "execution_count": 37,
   "metadata": {},
   "outputs": [
    {
     "name": "stdout",
     "output_type": "stream",
     "text": [
      "Length of df_train: 225000\n",
      "Length of df_test: 25000\n"
     ]
    }
   ],
   "source": [
    "df_train_stars, df_test_stars = split_data(ROWS, star_reviews_pipeline)"
   ]
  },
  {
   "cell_type": "code",
   "execution_count": 38,
   "metadata": {},
   "outputs": [
    {
     "name": "stdout",
     "output_type": "stream",
     "text": [
      "\n",
      "LOGISTIC REGRESSION\n",
      "Confusion Matrix: [[10024  1651]\n",
      " [ 1099 20976]]\n",
      "Classification Report:              precision    recall  f1-score   support\n",
      "\n",
      "          0       0.90      0.86      0.88     11675\n",
      "          1       0.93      0.95      0.94     22075\n",
      "\n",
      "avg / total       0.92      0.92      0.92     33750\n",
      "\n"
     ]
    }
   ],
   "source": [
    "run_star_tests(df_train_stars, logistic_regression, CountVectorizer(ngram_range=(1,2)))"
   ]
  },
  {
   "cell_type": "code",
   "execution_count": 39,
   "metadata": {},
   "outputs": [
    {
     "name": "stdout",
     "output_type": "stream",
     "text": [
      "\n",
      "LOGISTIC REGRESSION\n",
      "Confusion Matrix: [[1130  279]\n",
      " [ 113 2228]]\n",
      "Classification Report:              precision    recall  f1-score   support\n",
      "\n",
      "          0       0.91      0.80      0.85      1409\n",
      "          1       0.89      0.95      0.92      2341\n",
      "\n",
      "avg / total       0.90      0.90      0.89      3750\n",
      "\n"
     ]
    }
   ],
   "source": [
    "run_star_tests(df_test_stars, logistic_regression, CountVectorizer(ngram_range=(1,2)))"
   ]
  },
  {
   "cell_type": "markdown",
   "metadata": {},
   "source": [
    "This is definitely worth pursuing going forward."
   ]
  },
  {
   "cell_type": "markdown",
   "metadata": {},
   "source": [
    "## Results"
   ]
  },
  {
   "cell_type": "markdown",
   "metadata": {},
   "source": [
    "Best result for Helpful Reviews:\n",
    "LogisticRegression(C=0.007742636826811269)\n",
    "CountVectorizer(ngram_range=(1,2))\n",
    "Precision, Recall and F1 Scores: 91%, 91%, 91%\n",
    "Test Set: 87, 88, 87\n",
    "\n",
    "Best result for Stars: \n",
    "LogisticRegression(C=0.007742636826811269)\n",
    "CountVectorizer(ngram_range=(1,2))\n",
    "Precision, Recall and F1 Scores: 92%, 92%, 92%\n",
    "\n",
    "The results are very compelling. With minimal hyperparameter tweaking, logistic regression reaches 90% accuracy with CountVectorizer(ngram_range=(1,2)). Multiple tests revealed similar results. Options worth considering going forward include CountVectorizer(ngram_range=1,2) and CountVectorizer(ngram_range=1,3) with min_df = 2, or 1 and max_df = 0.9999 or 1. \n",
    "\n",
    "Of additional note is that make_xy outperforms make_xy_norm. This means that corpus generated by CountVectorizer does better than the normed corpus I created."
   ]
  }
 ],
 "metadata": {
  "kernelspec": {
   "display_name": "Python 3",
   "language": "python",
   "name": "python3"
  },
  "language_info": {
   "codemirror_mode": {
    "name": "ipython",
    "version": 3
   },
   "file_extension": ".py",
   "mimetype": "text/x-python",
   "name": "python",
   "nbconvert_exporter": "python",
   "pygments_lexer": "ipython3",
   "version": "3.6.6"
  }
 },
 "nbformat": 4,
 "nbformat_minor": 2
}
